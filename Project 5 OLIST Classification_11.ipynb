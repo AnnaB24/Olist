{
 "cells": [
  {
   "cell_type": "code",
   "execution_count": 1,
   "metadata": {},
   "outputs": [],
   "source": [
    "import numpy as np\n",
    "import pandas as pd\n",
    "import pickle\n",
    "from collections import Counter\n",
    "import math, time, random, datetime\n",
    "import seaborn as sns\n",
    "import matplotlib.pyplot as plt\n",
    "from sklearn import model_selection, tree, preprocessing, metrics, linear_model\n",
    "from sklearn.model_selection import train_test_split\n",
    "from sklearn.metrics import accuracy_score, confusion_matrix\n",
    "from sklearn.datasets import make_classification\n",
    "from sklearn.naive_bayes import BernoulliNB\n",
    "from sklearn.svm import LinearSVC, SVC\n",
    "from sklearn.linear_model import LogisticRegression\n",
    "from sklearn.ensemble import RandomForestClassifier, GradientBoostingClassifier\n",
    "from sklearn.metrics import roc_auc_score,roc_curve,precision_score, recall_score, precision_recall_curve,f1_score\n",
    "from sklearn.model_selection import cross_val_score\n",
    "from sklearn.neighbors import KNeighborsClassifier\n",
    "from sklearn.tree import DecisionTreeClassifier\n",
    "from sklearn.tree import export_graphviz\n",
    "import statsmodels.api as sm\n"
   ]
  },
  {
   "cell_type": "code",
   "execution_count": 2,
   "metadata": {},
   "outputs": [],
   "source": [
    "orders_full = pd.read_csv(\"orders_full_new_dum1.csv\")\n",
    "orders_full.head(5)\n",
    "orders_full.drop(['ds', \"Unnamed: 0\"], 1, inplace=True)"
   ]
  },
  {
   "cell_type": "code",
   "execution_count": 3,
   "metadata": {},
   "outputs": [
    {
     "data": {
      "text/html": [
       "<div>\n",
       "<style scoped>\n",
       "    .dataframe tbody tr th:only-of-type {\n",
       "        vertical-align: middle;\n",
       "    }\n",
       "\n",
       "    .dataframe tbody tr th {\n",
       "        vertical-align: top;\n",
       "    }\n",
       "\n",
       "    .dataframe thead th {\n",
       "        text-align: right;\n",
       "    }\n",
       "</style>\n",
       "<table border=\"1\" class=\"dataframe\">\n",
       "  <thead>\n",
       "    <tr style=\"text-align: right;\">\n",
       "      <th></th>\n",
       "      <th>order_id</th>\n",
       "      <th>payment_installments</th>\n",
       "      <th>review_score</th>\n",
       "      <th>y</th>\n",
       "      <th>freight_value</th>\n",
       "      <th>customer_city_sao paulo</th>\n",
       "      <th>customer_city_rio de janeiro</th>\n",
       "      <th>customer_city_belo horizonte</th>\n",
       "      <th>customer_city_brasilia</th>\n",
       "      <th>customer_city_curitiba</th>\n",
       "      <th>...</th>\n",
       "      <th>product_category_name_english_computers_accessories</th>\n",
       "      <th>product_category_name_english_furniture_decor</th>\n",
       "      <th>product_category_name_english_housewares</th>\n",
       "      <th>product_category_name_english_cool_stuff</th>\n",
       "      <th>product_category_name_english_auto</th>\n",
       "      <th>product_category_name_english_garden_tools</th>\n",
       "      <th>product_photos_qty</th>\n",
       "      <th>late_delivery</th>\n",
       "      <th>Num_ordrs</th>\n",
       "      <th>freight_price_ratio</th>\n",
       "    </tr>\n",
       "  </thead>\n",
       "  <tbody>\n",
       "    <tr>\n",
       "      <th>0</th>\n",
       "      <td>2e7a8482f6fb09756ca50c10d7bfc047</td>\n",
       "      <td>1.0</td>\n",
       "      <td>0</td>\n",
       "      <td>32.90</td>\n",
       "      <td>31.67</td>\n",
       "      <td>0</td>\n",
       "      <td>0</td>\n",
       "      <td>0</td>\n",
       "      <td>0</td>\n",
       "      <td>0</td>\n",
       "      <td>...</td>\n",
       "      <td>0</td>\n",
       "      <td>1</td>\n",
       "      <td>0</td>\n",
       "      <td>0</td>\n",
       "      <td>0</td>\n",
       "      <td>0</td>\n",
       "      <td>3.0</td>\n",
       "      <td>0</td>\n",
       "      <td>1</td>\n",
       "      <td>0.962614</td>\n",
       "    </tr>\n",
       "    <tr>\n",
       "      <th>1</th>\n",
       "      <td>2e7a8482f6fb09756ca50c10d7bfc047</td>\n",
       "      <td>1.0</td>\n",
       "      <td>0</td>\n",
       "      <td>39.99</td>\n",
       "      <td>31.67</td>\n",
       "      <td>0</td>\n",
       "      <td>0</td>\n",
       "      <td>0</td>\n",
       "      <td>0</td>\n",
       "      <td>0</td>\n",
       "      <td>...</td>\n",
       "      <td>0</td>\n",
       "      <td>1</td>\n",
       "      <td>0</td>\n",
       "      <td>0</td>\n",
       "      <td>0</td>\n",
       "      <td>0</td>\n",
       "      <td>2.0</td>\n",
       "      <td>0</td>\n",
       "      <td>1</td>\n",
       "      <td>0.791948</td>\n",
       "    </tr>\n",
       "    <tr>\n",
       "      <th>2</th>\n",
       "      <td>e5fa5a7210941f7d56d0208e4e071d35</td>\n",
       "      <td>3.0</td>\n",
       "      <td>0</td>\n",
       "      <td>59.50</td>\n",
       "      <td>15.56</td>\n",
       "      <td>0</td>\n",
       "      <td>0</td>\n",
       "      <td>0</td>\n",
       "      <td>0</td>\n",
       "      <td>0</td>\n",
       "      <td>...</td>\n",
       "      <td>0</td>\n",
       "      <td>0</td>\n",
       "      <td>0</td>\n",
       "      <td>0</td>\n",
       "      <td>0</td>\n",
       "      <td>0</td>\n",
       "      <td>1.0</td>\n",
       "      <td>0</td>\n",
       "      <td>1</td>\n",
       "      <td>0.261513</td>\n",
       "    </tr>\n",
       "    <tr>\n",
       "      <th>4</th>\n",
       "      <td>bfbd0f9bdef84302105ad712db648a6c</td>\n",
       "      <td>0.0</td>\n",
       "      <td>0</td>\n",
       "      <td>44.99</td>\n",
       "      <td>2.83</td>\n",
       "      <td>0</td>\n",
       "      <td>0</td>\n",
       "      <td>0</td>\n",
       "      <td>0</td>\n",
       "      <td>0</td>\n",
       "      <td>...</td>\n",
       "      <td>0</td>\n",
       "      <td>0</td>\n",
       "      <td>0</td>\n",
       "      <td>0</td>\n",
       "      <td>0</td>\n",
       "      <td>0</td>\n",
       "      <td>1.0</td>\n",
       "      <td>1</td>\n",
       "      <td>1</td>\n",
       "      <td>0.062903</td>\n",
       "    </tr>\n",
       "    <tr>\n",
       "      <th>5</th>\n",
       "      <td>bfbd0f9bdef84302105ad712db648a6c</td>\n",
       "      <td>0.0</td>\n",
       "      <td>0</td>\n",
       "      <td>44.99</td>\n",
       "      <td>2.83</td>\n",
       "      <td>0</td>\n",
       "      <td>0</td>\n",
       "      <td>0</td>\n",
       "      <td>0</td>\n",
       "      <td>0</td>\n",
       "      <td>...</td>\n",
       "      <td>0</td>\n",
       "      <td>0</td>\n",
       "      <td>0</td>\n",
       "      <td>0</td>\n",
       "      <td>0</td>\n",
       "      <td>0</td>\n",
       "      <td>1.0</td>\n",
       "      <td>1</td>\n",
       "      <td>1</td>\n",
       "      <td>0.062903</td>\n",
       "    </tr>\n",
       "  </tbody>\n",
       "</table>\n",
       "<p>5 rows × 24 columns</p>\n",
       "</div>"
      ],
      "text/plain": [
       "                           order_id  payment_installments  review_score  \\\n",
       "0  2e7a8482f6fb09756ca50c10d7bfc047                   1.0             0   \n",
       "1  2e7a8482f6fb09756ca50c10d7bfc047                   1.0             0   \n",
       "2  e5fa5a7210941f7d56d0208e4e071d35                   3.0             0   \n",
       "4  bfbd0f9bdef84302105ad712db648a6c                   0.0             0   \n",
       "5  bfbd0f9bdef84302105ad712db648a6c                   0.0             0   \n",
       "\n",
       "       y  freight_value  customer_city_sao paulo  \\\n",
       "0  32.90          31.67                        0   \n",
       "1  39.99          31.67                        0   \n",
       "2  59.50          15.56                        0   \n",
       "4  44.99           2.83                        0   \n",
       "5  44.99           2.83                        0   \n",
       "\n",
       "   customer_city_rio de janeiro  customer_city_belo horizonte  \\\n",
       "0                             0                             0   \n",
       "1                             0                             0   \n",
       "2                             0                             0   \n",
       "4                             0                             0   \n",
       "5                             0                             0   \n",
       "\n",
       "   customer_city_brasilia  customer_city_curitiba  ...  \\\n",
       "0                       0                       0  ...   \n",
       "1                       0                       0  ...   \n",
       "2                       0                       0  ...   \n",
       "4                       0                       0  ...   \n",
       "5                       0                       0  ...   \n",
       "\n",
       "   product_category_name_english_computers_accessories  \\\n",
       "0                                                  0     \n",
       "1                                                  0     \n",
       "2                                                  0     \n",
       "4                                                  0     \n",
       "5                                                  0     \n",
       "\n",
       "   product_category_name_english_furniture_decor  \\\n",
       "0                                              1   \n",
       "1                                              1   \n",
       "2                                              0   \n",
       "4                                              0   \n",
       "5                                              0   \n",
       "\n",
       "   product_category_name_english_housewares  \\\n",
       "0                                         0   \n",
       "1                                         0   \n",
       "2                                         0   \n",
       "4                                         0   \n",
       "5                                         0   \n",
       "\n",
       "   product_category_name_english_cool_stuff  \\\n",
       "0                                         0   \n",
       "1                                         0   \n",
       "2                                         0   \n",
       "4                                         0   \n",
       "5                                         0   \n",
       "\n",
       "   product_category_name_english_auto  \\\n",
       "0                                   0   \n",
       "1                                   0   \n",
       "2                                   0   \n",
       "4                                   0   \n",
       "5                                   0   \n",
       "\n",
       "   product_category_name_english_garden_tools  product_photos_qty  \\\n",
       "0                                           0                 3.0   \n",
       "1                                           0                 2.0   \n",
       "2                                           0                 1.0   \n",
       "4                                           0                 1.0   \n",
       "5                                           0                 1.0   \n",
       "\n",
       "   late_delivery  Num_ordrs  freight_price_ratio  \n",
       "0              0          1             0.962614  \n",
       "1              0          1             0.791948  \n",
       "2              0          1             0.261513  \n",
       "4              1          1             0.062903  \n",
       "5              1          1             0.062903  \n",
       "\n",
       "[5 rows x 24 columns]"
      ]
     },
     "execution_count": 3,
     "metadata": {},
     "output_type": "execute_result"
    }
   ],
   "source": [
    "orders_full['freight_price_ratio'] = orders_full['freight_value']/orders_full['y']\n",
    "\n",
    "orders_full = orders_full.dropna()\n",
    "orders_full['review_score'] = orders_full['review_score'].apply(lambda x: 1 if x >= 4 else 0)\n",
    "orders_full.head()"
   ]
  },
  {
   "cell_type": "code",
   "execution_count": 7,
   "metadata": {},
   "outputs": [
    {
     "data": {
      "text/plain": [
       "order_id                                               False\n",
       "payment_installments                                   False\n",
       "review_score                                           False\n",
       "y                                                      False\n",
       "freight_value                                          False\n",
       "customer_city_sao paulo                                False\n",
       "customer_city_rio de janeiro                           False\n",
       "customer_city_belo horizonte                           False\n",
       "customer_city_brasilia                                 False\n",
       "customer_city_curitiba                                 False\n",
       "customer_city_salvador                                 False\n",
       "product_category_name_english_health_beauty            False\n",
       "product_category_name_english_bed_bath_table           False\n",
       "product_category_name_english_sports_leisure           False\n",
       "product_category_name_english_computers_accessories    False\n",
       "product_category_name_english_furniture_decor          False\n",
       "product_category_name_english_housewares               False\n",
       "product_category_name_english_cool_stuff               False\n",
       "product_category_name_english_auto                     False\n",
       "product_category_name_english_garden_tools             False\n",
       "product_photos_qty                                     False\n",
       "late_delivery                                          False\n",
       "Num_ordrs                                              False\n",
       "freight_price_ratio                                    False\n",
       "dtype: bool"
      ]
     },
     "execution_count": 7,
     "metadata": {},
     "output_type": "execute_result"
    }
   ],
   "source": [
    "orders_full.isnull().any()"
   ]
  },
  {
   "cell_type": "code",
   "execution_count": 8,
   "metadata": {},
   "outputs": [
    {
     "name": "stdout",
     "output_type": "stream",
     "text": [
      "<class 'pandas.core.frame.DataFrame'>\n",
      "Int64Index: 118318 entries, 0 to 119132\n",
      "Data columns (total 24 columns):\n",
      "order_id                                               118318 non-null object\n",
      "payment_installments                                   118318 non-null float64\n",
      "review_score                                           118318 non-null int64\n",
      "y                                                      118318 non-null float64\n",
      "freight_value                                          118318 non-null float64\n",
      "customer_city_sao paulo                                118318 non-null int64\n",
      "customer_city_rio de janeiro                           118318 non-null int64\n",
      "customer_city_belo horizonte                           118318 non-null int64\n",
      "customer_city_brasilia                                 118318 non-null int64\n",
      "customer_city_curitiba                                 118318 non-null int64\n",
      "customer_city_salvador                                 118318 non-null int64\n",
      "product_category_name_english_health_beauty            118318 non-null int64\n",
      "product_category_name_english_bed_bath_table           118318 non-null int64\n",
      "product_category_name_english_sports_leisure           118318 non-null int64\n",
      "product_category_name_english_computers_accessories    118318 non-null int64\n",
      "product_category_name_english_furniture_decor          118318 non-null int64\n",
      "product_category_name_english_housewares               118318 non-null int64\n",
      "product_category_name_english_cool_stuff               118318 non-null int64\n",
      "product_category_name_english_auto                     118318 non-null int64\n",
      "product_category_name_english_garden_tools             118318 non-null int64\n",
      "product_photos_qty                                     118318 non-null float64\n",
      "late_delivery                                          118318 non-null int64\n",
      "Num_ordrs                                              118318 non-null int64\n",
      "freight_price_ratio                                    118318 non-null float64\n",
      "dtypes: float64(5), int64(18), object(1)\n",
      "memory usage: 22.6+ MB\n"
     ]
    }
   ],
   "source": [
    "orders_full.info()"
   ]
  },
  {
   "cell_type": "code",
   "execution_count": 9,
   "metadata": {},
   "outputs": [],
   "source": [
    "orders_full.drop([\"order_id\"], 1, inplace=True)"
   ]
  },
  {
   "cell_type": "code",
   "execution_count": 10,
   "metadata": {},
   "outputs": [
    {
     "data": {
      "text/html": [
       "<div>\n",
       "<style scoped>\n",
       "    .dataframe tbody tr th:only-of-type {\n",
       "        vertical-align: middle;\n",
       "    }\n",
       "\n",
       "    .dataframe tbody tr th {\n",
       "        vertical-align: top;\n",
       "    }\n",
       "\n",
       "    .dataframe thead th {\n",
       "        text-align: right;\n",
       "    }\n",
       "</style>\n",
       "<table border=\"1\" class=\"dataframe\">\n",
       "  <thead>\n",
       "    <tr style=\"text-align: right;\">\n",
       "      <th></th>\n",
       "      <th>payment_installments</th>\n",
       "      <th>review_score</th>\n",
       "      <th>y</th>\n",
       "      <th>freight_value</th>\n",
       "      <th>customer_city_sao paulo</th>\n",
       "      <th>customer_city_rio de janeiro</th>\n",
       "      <th>customer_city_belo horizonte</th>\n",
       "      <th>customer_city_brasilia</th>\n",
       "      <th>customer_city_curitiba</th>\n",
       "      <th>customer_city_salvador</th>\n",
       "      <th>...</th>\n",
       "      <th>product_category_name_english_computers_accessories</th>\n",
       "      <th>product_category_name_english_furniture_decor</th>\n",
       "      <th>product_category_name_english_housewares</th>\n",
       "      <th>product_category_name_english_cool_stuff</th>\n",
       "      <th>product_category_name_english_auto</th>\n",
       "      <th>product_category_name_english_garden_tools</th>\n",
       "      <th>product_photos_qty</th>\n",
       "      <th>late_delivery</th>\n",
       "      <th>Num_ordrs</th>\n",
       "      <th>freight_price_ratio</th>\n",
       "    </tr>\n",
       "  </thead>\n",
       "  <tbody>\n",
       "    <tr>\n",
       "      <th>0</th>\n",
       "      <td>1.0</td>\n",
       "      <td>0</td>\n",
       "      <td>32.90</td>\n",
       "      <td>31.67</td>\n",
       "      <td>0</td>\n",
       "      <td>0</td>\n",
       "      <td>0</td>\n",
       "      <td>0</td>\n",
       "      <td>0</td>\n",
       "      <td>0</td>\n",
       "      <td>...</td>\n",
       "      <td>0</td>\n",
       "      <td>1</td>\n",
       "      <td>0</td>\n",
       "      <td>0</td>\n",
       "      <td>0</td>\n",
       "      <td>0</td>\n",
       "      <td>3.0</td>\n",
       "      <td>0</td>\n",
       "      <td>1</td>\n",
       "      <td>0.962614</td>\n",
       "    </tr>\n",
       "    <tr>\n",
       "      <th>1</th>\n",
       "      <td>1.0</td>\n",
       "      <td>0</td>\n",
       "      <td>39.99</td>\n",
       "      <td>31.67</td>\n",
       "      <td>0</td>\n",
       "      <td>0</td>\n",
       "      <td>0</td>\n",
       "      <td>0</td>\n",
       "      <td>0</td>\n",
       "      <td>0</td>\n",
       "      <td>...</td>\n",
       "      <td>0</td>\n",
       "      <td>1</td>\n",
       "      <td>0</td>\n",
       "      <td>0</td>\n",
       "      <td>0</td>\n",
       "      <td>0</td>\n",
       "      <td>2.0</td>\n",
       "      <td>0</td>\n",
       "      <td>1</td>\n",
       "      <td>0.791948</td>\n",
       "    </tr>\n",
       "    <tr>\n",
       "      <th>2</th>\n",
       "      <td>3.0</td>\n",
       "      <td>0</td>\n",
       "      <td>59.50</td>\n",
       "      <td>15.56</td>\n",
       "      <td>0</td>\n",
       "      <td>0</td>\n",
       "      <td>0</td>\n",
       "      <td>0</td>\n",
       "      <td>0</td>\n",
       "      <td>0</td>\n",
       "      <td>...</td>\n",
       "      <td>0</td>\n",
       "      <td>0</td>\n",
       "      <td>0</td>\n",
       "      <td>0</td>\n",
       "      <td>0</td>\n",
       "      <td>0</td>\n",
       "      <td>1.0</td>\n",
       "      <td>0</td>\n",
       "      <td>1</td>\n",
       "      <td>0.261513</td>\n",
       "    </tr>\n",
       "    <tr>\n",
       "      <th>4</th>\n",
       "      <td>0.0</td>\n",
       "      <td>0</td>\n",
       "      <td>44.99</td>\n",
       "      <td>2.83</td>\n",
       "      <td>0</td>\n",
       "      <td>0</td>\n",
       "      <td>0</td>\n",
       "      <td>0</td>\n",
       "      <td>0</td>\n",
       "      <td>0</td>\n",
       "      <td>...</td>\n",
       "      <td>0</td>\n",
       "      <td>0</td>\n",
       "      <td>0</td>\n",
       "      <td>0</td>\n",
       "      <td>0</td>\n",
       "      <td>0</td>\n",
       "      <td>1.0</td>\n",
       "      <td>1</td>\n",
       "      <td>1</td>\n",
       "      <td>0.062903</td>\n",
       "    </tr>\n",
       "    <tr>\n",
       "      <th>5</th>\n",
       "      <td>0.0</td>\n",
       "      <td>0</td>\n",
       "      <td>44.99</td>\n",
       "      <td>2.83</td>\n",
       "      <td>0</td>\n",
       "      <td>0</td>\n",
       "      <td>0</td>\n",
       "      <td>0</td>\n",
       "      <td>0</td>\n",
       "      <td>0</td>\n",
       "      <td>...</td>\n",
       "      <td>0</td>\n",
       "      <td>0</td>\n",
       "      <td>0</td>\n",
       "      <td>0</td>\n",
       "      <td>0</td>\n",
       "      <td>0</td>\n",
       "      <td>1.0</td>\n",
       "      <td>1</td>\n",
       "      <td>1</td>\n",
       "      <td>0.062903</td>\n",
       "    </tr>\n",
       "  </tbody>\n",
       "</table>\n",
       "<p>5 rows × 23 columns</p>\n",
       "</div>"
      ],
      "text/plain": [
       "   payment_installments  review_score      y  freight_value  \\\n",
       "0                   1.0             0  32.90          31.67   \n",
       "1                   1.0             0  39.99          31.67   \n",
       "2                   3.0             0  59.50          15.56   \n",
       "4                   0.0             0  44.99           2.83   \n",
       "5                   0.0             0  44.99           2.83   \n",
       "\n",
       "   customer_city_sao paulo  customer_city_rio de janeiro  \\\n",
       "0                        0                             0   \n",
       "1                        0                             0   \n",
       "2                        0                             0   \n",
       "4                        0                             0   \n",
       "5                        0                             0   \n",
       "\n",
       "   customer_city_belo horizonte  customer_city_brasilia  \\\n",
       "0                             0                       0   \n",
       "1                             0                       0   \n",
       "2                             0                       0   \n",
       "4                             0                       0   \n",
       "5                             0                       0   \n",
       "\n",
       "   customer_city_curitiba  customer_city_salvador  ...  \\\n",
       "0                       0                       0  ...   \n",
       "1                       0                       0  ...   \n",
       "2                       0                       0  ...   \n",
       "4                       0                       0  ...   \n",
       "5                       0                       0  ...   \n",
       "\n",
       "   product_category_name_english_computers_accessories  \\\n",
       "0                                                  0     \n",
       "1                                                  0     \n",
       "2                                                  0     \n",
       "4                                                  0     \n",
       "5                                                  0     \n",
       "\n",
       "   product_category_name_english_furniture_decor  \\\n",
       "0                                              1   \n",
       "1                                              1   \n",
       "2                                              0   \n",
       "4                                              0   \n",
       "5                                              0   \n",
       "\n",
       "   product_category_name_english_housewares  \\\n",
       "0                                         0   \n",
       "1                                         0   \n",
       "2                                         0   \n",
       "4                                         0   \n",
       "5                                         0   \n",
       "\n",
       "   product_category_name_english_cool_stuff  \\\n",
       "0                                         0   \n",
       "1                                         0   \n",
       "2                                         0   \n",
       "4                                         0   \n",
       "5                                         0   \n",
       "\n",
       "   product_category_name_english_auto  \\\n",
       "0                                   0   \n",
       "1                                   0   \n",
       "2                                   0   \n",
       "4                                   0   \n",
       "5                                   0   \n",
       "\n",
       "   product_category_name_english_garden_tools  product_photos_qty  \\\n",
       "0                                           0                 3.0   \n",
       "1                                           0                 2.0   \n",
       "2                                           0                 1.0   \n",
       "4                                           0                 1.0   \n",
       "5                                           0                 1.0   \n",
       "\n",
       "   late_delivery  Num_ordrs  freight_price_ratio  \n",
       "0              0          1             0.962614  \n",
       "1              0          1             0.791948  \n",
       "2              0          1             0.261513  \n",
       "4              1          1             0.062903  \n",
       "5              1          1             0.062903  \n",
       "\n",
       "[5 rows x 23 columns]"
      ]
     },
     "execution_count": 10,
     "metadata": {},
     "output_type": "execute_result"
    }
   ],
   "source": [
    "orders_full.head()"
   ]
  },
  {
   "cell_type": "code",
   "execution_count": null,
   "metadata": {},
   "outputs": [],
   "source": []
  },
  {
   "cell_type": "code",
   "execution_count": 13,
   "metadata": {},
   "outputs": [
    {
     "name": "stdout",
     "output_type": "stream",
     "text": [
      "1    88722\n",
      "0    29596\n",
      "Name: review_score, dtype: int64\n"
     ]
    },
    {
     "data": {
      "image/png": "[encoded data removed]",
      "text/plain": [
       "<Figure size 720x72 with 1 Axes>"
      ]
     },
     "metadata": {
      "needs_background": "light"
     },
     "output_type": "display_data"
    }
   ],
   "source": [
    "\n",
    "fig = plt.figure(figsize=(10,1))\n",
    "sns.countplot(y='review_score', data=orders_full);\n",
    "print(orders_full.review_score.value_counts())"
   ]
  },
  {
   "cell_type": "code",
   "execution_count": 14,
   "metadata": {},
   "outputs": [],
   "source": [
    "X = orders_full[[\"payment_installments\", 'y', 'freight_value', 'customer_city_sao paulo', \"customer_city_rio de janeiro\", 'customer_city_belo horizonte', 'customer_city_brasilia', \"customer_city_curitiba\", \"customer_city_salvador\", 'product_category_name_english_health_beauty', 'product_category_name_english_bed_bath_table', 'product_category_name_english_sports_leisure', 'product_category_name_english_computers_accessories',  'product_category_name_english_furniture_decor', 'product_category_name_english_housewares', 'product_category_name_english_cool_stuff', 'product_category_name_english_auto', 'product_category_name_english_garden_tools', \"late_delivery\", \"product_photos_qty\", \"freight_price_ratio\"]]\n",
    "y = orders_full[\"review_score\"]"
   ]
  },
  {
   "cell_type": "markdown",
   "metadata": {},
   "source": [
    "## StandardScaler"
   ]
  },
  {
   "cell_type": "code",
   "execution_count": 181,
   "metadata": {},
   "outputs": [
    {
     "name": "stderr",
     "output_type": "stream",
     "text": [
      "/anaconda3/lib/python3.7/site-packages/sklearn/preprocessing/data.py:645: DataConversionWarning: Data with input dtype int64, float64 were all converted to float64 by StandardScaler.\n",
      "  return self.partial_fit(X, y)\n",
      "/anaconda3/lib/python3.7/site-packages/sklearn/base.py:464: DataConversionWarning: Data with input dtype int64, float64 were all converted to float64 by StandardScaler.\n",
      "  return self.fit(X, **fit_params).transform(X)\n"
     ]
    }
   ],
   "source": [
    "from sklearn.preprocessing import StandardScaler\n",
    "X_scaler = X\n",
    "X_scaled = pd.DataFrame(StandardScaler().fit_transform(X))\n",
    "#X_scaled=Scaler.transform(X)\n",
    "#X_scaler_train, X_scaler_test, y_train, y_test = train_test_split(X1, y, test_size=0.3, random_state=40)"
   ]
  },
  {
   "cell_type": "code",
   "execution_count": 182,
   "metadata": {},
   "outputs": [],
   "source": [
    "# hold out 20% of the data for final testing\n",
    "X_scaled, X_test, y, y_test = train_test_split(X_scaled, y, test_size=.2, random_state=10)"
   ]
  },
  {
   "cell_type": "code",
   "execution_count": 183,
   "metadata": {},
   "outputs": [],
   "source": [
    "#further partition X, y into datasets X_train, y_train (60% of original) and X_val, y_val (20%).\n",
    "X_train, X_val, y_train, y_val = train_test_split(X_scaled, y, test_size=.25, random_state=3)"
   ]
  },
  {
   "cell_type": "code",
   "execution_count": 184,
   "metadata": {},
   "outputs": [
    {
     "name": "stdout",
     "output_type": "stream",
     "text": [
      "(70990, 21) (23664, 21) (23664, 21)\n"
     ]
    }
   ],
   "source": [
    "print(X_train.shape, X_val.shape, X_test.shape)"
   ]
  },
  {
   "cell_type": "code",
   "execution_count": 185,
   "metadata": {},
   "outputs": [],
   "source": [
    "#set up the baseline model:\n",
    "lr = LogisticRegression() "
   ]
  },
  {
   "cell_type": "code",
   "execution_count": 186,
   "metadata": {},
   "outputs": [
    {
     "name": "stderr",
     "output_type": "stream",
     "text": [
      "/anaconda3/lib/python3.7/site-packages/sklearn/linear_model/logistic.py:433: FutureWarning: Default solver will be changed to 'lbfgs' in 0.22. Specify a solver to silence this warning.\n",
      "  FutureWarning)\n"
     ]
    },
    {
     "data": {
      "text/plain": [
       "LogisticRegression(C=1.0, class_weight=None, dual=False, fit_intercept=True,\n",
       "          intercept_scaling=1, max_iter=100, multi_class='warn',\n",
       "          n_jobs=None, penalty='l2', random_state=None, solver='warn',\n",
       "          tol=0.0001, verbose=0, warm_start=False)"
      ]
     },
     "execution_count": 186,
     "metadata": {},
     "output_type": "execute_result"
    }
   ],
   "source": [
    "#fit\n",
    "lr.fit(X_train, y_train)"
   ]
  },
  {
   "cell_type": "code",
   "execution_count": 187,
   "metadata": {},
   "outputs": [
    {
     "name": "stdout",
     "output_type": "stream",
     "text": [
      "ROC AUC train score: 0.6311\n",
      "ROC AUC validation score: 0.6232\n",
      "ROC AUC test score: 0.6296\n"
     ]
    }
   ],
   "source": [
    "print(\"ROC AUC train score: {:6.4f}\".format(roc_auc_score(y_train,lr.predict_proba(X_train)[:,1])))\n",
    "print(\"ROC AUC validation score: {:6.4f}\".format(roc_auc_score(y_val,lr.predict_proba(X_val)[:,1])))\n",
    "print(\"ROC AUC test score: {:6.4f}\".format(roc_auc_score(y_test,lr.predict_proba(X_test)[:,1])))"
   ]
  },
  {
   "cell_type": "code",
   "execution_count": 188,
   "metadata": {},
   "outputs": [
    {
     "name": "stdout",
     "output_type": "stream",
     "text": [
      "Accuracy test score: 0.7724\n",
      "Precision test score: 0.7822\n",
      "Recall test score: 0.9640\n",
      "F1 test score: 0.8636\n"
     ]
    }
   ],
   "source": [
    "print(\"Accuracy test score: {:6.4f}\".format(accuracy_score(y_test,lr.predict(X_test))))\n",
    "print(\"Precision test score: {:6.4f}\".format(precision_score(y_test,lr.predict(X_test))))\n",
    "print(\"Recall test score: {:6.4f}\".format(recall_score(y_test,lr.predict(X_test))))\n",
    "print(\"F1 test score: {:6.4f}\".format(f1_score(y_test,lr.predict(X_test))))"
   ]
  },
  {
   "cell_type": "code",
   "execution_count": 189,
   "metadata": {},
   "outputs": [
    {
     "data": {
      "text/plain": [
       "array([[-1.04268909e-01,  3.40570551e-02, -3.04780896e-02,\n",
       "         1.78829813e-02, -5.34245319e-02, -7.61666430e-04,\n",
       "        -4.49811454e-03, -9.91187491e-03, -3.09158461e-02,\n",
       "         4.37607674e-02, -8.34263679e-02,  2.54048299e-02,\n",
       "        -5.11842754e-02, -6.20678621e-02,  2.68057856e-03,\n",
       "         1.67804155e-02,  7.49130618e-03,  2.87742786e-04,\n",
       "        -5.27659932e-01,  4.04018620e-02, -8.47636777e-02]])"
      ]
     },
     "execution_count": 189,
     "metadata": {},
     "output_type": "execute_result"
    }
   ],
   "source": [
    "lr.coef_"
   ]
  },
  {
   "cell_type": "code",
   "execution_count": 194,
   "metadata": {},
   "outputs": [],
   "source": [
    "def make_confusion_matrix(model, threshold=0.78):\n",
    "    # Predict class 1 if probability of being in class 1 is greater than threshold\n",
    "    # (model.predict(X_test) does this automatically with a threshold of 0.5)\n",
    "    y_predict = (model.predict_proba(X_test)[:, 1] >= threshold)\n",
    "    illicit_confusion = confusion_matrix(y_test, y_predict)\n",
    "    plt.figure(dpi=80)\n",
    "    sns.heatmap(illicit_confusion, cmap=plt.cm.Greens, annot=True, square=True, fmt='d',\n",
    "           xticklabels=['negative', 'positive'],\n",
    "           yticklabels=['negative', 'positive']);\n",
    "    plt.xlabel('prediction')\n",
    "    plt.ylabel('actual')"
   ]
  },
  {
   "cell_type": "code",
   "execution_count": 195,
   "metadata": {},
   "outputs": [
    {
     "data": {
      "image/png": "[encoded data removed]",
      "text/plain": [
       "<Figure size 480x320 with 2 Axes>"
      ]
     },
     "metadata": {
      "needs_background": "light"
     },
     "output_type": "display_data"
    }
   ],
   "source": [
    "make_confusion_matrix(lr)"
   ]
  },
  {
   "cell_type": "code",
   "execution_count": 196,
   "metadata": {},
   "outputs": [],
   "source": [
    "fpr, tpr, thresholds = roc_curve(y_test, lr.predict_proba(X_test)[:,1])"
   ]
  },
  {
   "cell_type": "code",
   "execution_count": 198,
   "metadata": {},
   "outputs": [],
   "source": [
    "Coefficients = pd.DataFrame(zip([\"payment_installments\", 'y', 'freight_value', 'customer_city_sao paulo', \"customer_city_rio de janeiro\", 'customer_city_belo horizonte', 'customer_city_brasilia', \"customer_city_curitiba\", \"customer_city_salvador\", 'product_category_name_english_health_beauty', 'product_category_name_english_bed_bath_table', 'product_category_name_english_sports_leisure', 'product_category_name_english_computers_accessories',  'product_category_name_english_furniture_decor', 'product_category_name_english_housewares', 'product_category_name_english_cool_stuff', 'product_category_name_english_auto', 'product_category_name_english_garden_tools', \"late_delivery\", \"product_photos_qty\", \"freight_price_ratio\"],*lr.coef_),columns =['Features','Coefficients']).\\\n",
    "            sort_values(by=\"Coefficients\",ascending=False).reset_index(drop=True).round(2)"
   ]
  },
  {
   "cell_type": "code",
   "execution_count": 199,
   "metadata": {},
   "outputs": [
    {
     "data": {
      "text/html": [
       "<div>\n",
       "<style scoped>\n",
       "    .dataframe tbody tr th:only-of-type {\n",
       "        vertical-align: middle;\n",
       "    }\n",
       "\n",
       "    .dataframe tbody tr th {\n",
       "        vertical-align: top;\n",
       "    }\n",
       "\n",
       "    .dataframe thead th {\n",
       "        text-align: right;\n",
       "    }\n",
       "</style>\n",
       "<table border=\"1\" class=\"dataframe\">\n",
       "  <thead>\n",
       "    <tr style=\"text-align: right;\">\n",
       "      <th></th>\n",
       "      <th>Features</th>\n",
       "      <th>Coefficients</th>\n",
       "    </tr>\n",
       "  </thead>\n",
       "  <tbody>\n",
       "    <tr>\n",
       "      <th>0</th>\n",
       "      <td>product_category_name_english_health_beauty</td>\n",
       "      <td>0.04</td>\n",
       "    </tr>\n",
       "    <tr>\n",
       "      <th>1</th>\n",
       "      <td>product_photos_qty</td>\n",
       "      <td>0.04</td>\n",
       "    </tr>\n",
       "    <tr>\n",
       "      <th>2</th>\n",
       "      <td>y</td>\n",
       "      <td>0.03</td>\n",
       "    </tr>\n",
       "    <tr>\n",
       "      <th>3</th>\n",
       "      <td>product_category_name_english_sports_leisure</td>\n",
       "      <td>0.03</td>\n",
       "    </tr>\n",
       "    <tr>\n",
       "      <th>4</th>\n",
       "      <td>customer_city_sao paulo</td>\n",
       "      <td>0.02</td>\n",
       "    </tr>\n",
       "    <tr>\n",
       "      <th>5</th>\n",
       "      <td>product_category_name_english_cool_stuff</td>\n",
       "      <td>0.02</td>\n",
       "    </tr>\n",
       "    <tr>\n",
       "      <th>6</th>\n",
       "      <td>product_category_name_english_auto</td>\n",
       "      <td>0.01</td>\n",
       "    </tr>\n",
       "    <tr>\n",
       "      <th>7</th>\n",
       "      <td>product_category_name_english_housewares</td>\n",
       "      <td>0.00</td>\n",
       "    </tr>\n",
       "    <tr>\n",
       "      <th>8</th>\n",
       "      <td>product_category_name_english_garden_tools</td>\n",
       "      <td>0.00</td>\n",
       "    </tr>\n",
       "    <tr>\n",
       "      <th>9</th>\n",
       "      <td>customer_city_belo horizonte</td>\n",
       "      <td>-0.00</td>\n",
       "    </tr>\n",
       "    <tr>\n",
       "      <th>10</th>\n",
       "      <td>customer_city_brasilia</td>\n",
       "      <td>-0.00</td>\n",
       "    </tr>\n",
       "    <tr>\n",
       "      <th>11</th>\n",
       "      <td>customer_city_curitiba</td>\n",
       "      <td>-0.01</td>\n",
       "    </tr>\n",
       "    <tr>\n",
       "      <th>12</th>\n",
       "      <td>freight_value</td>\n",
       "      <td>-0.03</td>\n",
       "    </tr>\n",
       "    <tr>\n",
       "      <th>13</th>\n",
       "      <td>customer_city_salvador</td>\n",
       "      <td>-0.03</td>\n",
       "    </tr>\n",
       "    <tr>\n",
       "      <th>14</th>\n",
       "      <td>product_category_name_english_computers_access...</td>\n",
       "      <td>-0.05</td>\n",
       "    </tr>\n",
       "    <tr>\n",
       "      <th>15</th>\n",
       "      <td>customer_city_rio de janeiro</td>\n",
       "      <td>-0.05</td>\n",
       "    </tr>\n",
       "    <tr>\n",
       "      <th>16</th>\n",
       "      <td>product_category_name_english_furniture_decor</td>\n",
       "      <td>-0.06</td>\n",
       "    </tr>\n",
       "    <tr>\n",
       "      <th>17</th>\n",
       "      <td>product_category_name_english_bed_bath_table</td>\n",
       "      <td>-0.08</td>\n",
       "    </tr>\n",
       "    <tr>\n",
       "      <th>18</th>\n",
       "      <td>freight_price_ratio</td>\n",
       "      <td>-0.08</td>\n",
       "    </tr>\n",
       "    <tr>\n",
       "      <th>19</th>\n",
       "      <td>payment_installments</td>\n",
       "      <td>-0.10</td>\n",
       "    </tr>\n",
       "    <tr>\n",
       "      <th>20</th>\n",
       "      <td>late_delivery</td>\n",
       "      <td>-0.53</td>\n",
       "    </tr>\n",
       "  </tbody>\n",
       "</table>\n",
       "</div>"
      ],
      "text/plain": [
       "                                             Features  Coefficients\n",
       "0         product_category_name_english_health_beauty          0.04\n",
       "1                                  product_photos_qty          0.04\n",
       "2                                                   y          0.03\n",
       "3        product_category_name_english_sports_leisure          0.03\n",
       "4                             customer_city_sao paulo          0.02\n",
       "5            product_category_name_english_cool_stuff          0.02\n",
       "6                  product_category_name_english_auto          0.01\n",
       "7            product_category_name_english_housewares          0.00\n",
       "8          product_category_name_english_garden_tools          0.00\n",
       "9                        customer_city_belo horizonte         -0.00\n",
       "10                             customer_city_brasilia         -0.00\n",
       "11                             customer_city_curitiba         -0.01\n",
       "12                                      freight_value         -0.03\n",
       "13                             customer_city_salvador         -0.03\n",
       "14  product_category_name_english_computers_access...         -0.05\n",
       "15                       customer_city_rio de janeiro         -0.05\n",
       "16      product_category_name_english_furniture_decor         -0.06\n",
       "17       product_category_name_english_bed_bath_table         -0.08\n",
       "18                                freight_price_ratio         -0.08\n",
       "19                               payment_installments         -0.10\n",
       "20                                      late_delivery         -0.53"
      ]
     },
     "execution_count": 199,
     "metadata": {},
     "output_type": "execute_result"
    }
   ],
   "source": [
    "Coefficients"
   ]
  },
  {
   "cell_type": "code",
   "execution_count": 200,
   "metadata": {},
   "outputs": [
    {
     "name": "stdout",
     "output_type": "stream",
     "text": [
      "ROC AUC score =  0.6296160829248403\n"
     ]
    },
    {
     "data": {
      "image/png": "[encoded data removed]",
      "text/plain": [
       "<Figure size 432x288 with 1 Axes>"
      ]
     },
     "metadata": {
      "needs_background": "light"
     },
     "output_type": "display_data"
    }
   ],
   "source": [
    "plt.plot(fpr, tpr,lw=2)\n",
    "plt.plot([0,1],[0,1],c='violet',ls='--')\n",
    "plt.xlim([-0.05,1.05])\n",
    "plt.ylim([-0.05,1.05])\n",
    "\n",
    "\n",
    "plt.xlabel('False positive rate')\n",
    "plt.ylabel('True positive rate')\n",
    "plt.title('ROC curve for review classification');\n",
    "print(\"ROC AUC score = \", roc_auc_score(y_test, lr.predict_proba(X_test)[:,1]))"
   ]
  },
  {
   "cell_type": "code",
   "execution_count": 201,
   "metadata": {},
   "outputs": [],
   "source": [
    "# Instantiate model with 50 decision trees\n",
    "rf = RandomForestClassifier(n_estimators = 50, random_state = 42)"
   ]
  },
  {
   "cell_type": "code",
   "execution_count": 202,
   "metadata": {},
   "outputs": [
    {
     "data": {
      "text/plain": [
       "RandomForestClassifier(bootstrap=True, class_weight=None, criterion='gini',\n",
       "            max_depth=None, max_features='auto', max_leaf_nodes=None,\n",
       "            min_impurity_decrease=0.0, min_impurity_split=None,\n",
       "            min_samples_leaf=1, min_samples_split=2,\n",
       "            min_weight_fraction_leaf=0.0, n_estimators=50, n_jobs=None,\n",
       "            oob_score=False, random_state=42, verbose=0, warm_start=False)"
      ]
     },
     "execution_count": 202,
     "metadata": {},
     "output_type": "execute_result"
    }
   ],
   "source": [
    "#fit\n",
    "rf.fit(X_train, y_train)"
   ]
  },
  {
   "cell_type": "code",
   "execution_count": 203,
   "metadata": {},
   "outputs": [
    {
     "name": "stdout",
     "output_type": "stream",
     "text": [
      "ROC AUC train score: 0.9563\n",
      "ROC AUC validation score: 0.6612\n",
      "ROC AUC test score: 0.6622\n"
     ]
    }
   ],
   "source": [
    "print(\"ROC AUC train score: {:6.4f}\".format(roc_auc_score(y_train,rf.predict(X_train))))\n",
    "print(\"ROC AUC validation score: {:6.4f}\".format(roc_auc_score(y_val,rf.predict(X_val))))\n",
    "print(\"ROC AUC test score: {:6.4f}\".format(roc_auc_score(y_test,rf.predict(X_test))))"
   ]
  },
  {
   "cell_type": "code",
   "execution_count": 204,
   "metadata": {},
   "outputs": [
    {
     "name": "stdout",
     "output_type": "stream",
     "text": [
      "Precision test score: 0.7822\n",
      "Recall test score: 0.9640\n",
      "F1 test score: 0.8636\n"
     ]
    }
   ],
   "source": [
    "print(\"Precision test score: {:6.4f}\".format(precision_score(y_test,lr.predict(X_test))))\n",
    "print(\"Recall test score: {:6.4f}\".format(recall_score(y_test,lr.predict(X_test))))\n",
    "print(\"F1 test score: {:6.4f}\".format(f1_score(y_test,lr.predict(X_test))))"
   ]
  },
  {
   "cell_type": "code",
   "execution_count": 205,
   "metadata": {},
   "outputs": [
    {
     "data": {
      "text/plain": [
       "array([0.08007414, 0.2205561 , 0.23090688, 0.0109369 , 0.00605867,\n",
       "       0.00505823, 0.00468009, 0.00411345, 0.00248048, 0.00578331,\n",
       "       0.00448692, 0.00548928, 0.0051035 , 0.00474174, 0.00646838,\n",
       "       0.00378896, 0.00500827, 0.00422412, 0.0818895 , 0.05608614,\n",
       "       0.25206494])"
      ]
     },
     "execution_count": 205,
     "metadata": {},
     "output_type": "execute_result"
    }
   ],
   "source": [
    "rf.feature_importances_"
   ]
  },
  {
   "cell_type": "code",
   "execution_count": 206,
   "metadata": {},
   "outputs": [
    {
     "data": {
      "image/png": "[encoded data removed]",
      "text/plain": [
       "<Figure size 1080x936 with 1 Axes>"
      ]
     },
     "metadata": {
      "needs_background": "light"
     },
     "output_type": "display_data"
    }
   ],
   "source": [
    "%matplotlib inline\n",
    "\n",
    "feats = {} # a dict to hold feature_name: feature_importance\n",
    "for feature, importance in zip(X_train.columns, rf.feature_importances_):\n",
    "    feats[feature] = importance #add the name/value pair \n",
    "\n",
    "importances = pd.DataFrame.from_dict(feats, orient='index').rename(columns={0: 'Gini-importance'})\n",
    "\n",
    "importances.sort_values(by='Gini-importance').plot(kind='bar',figsize=(15,13));"
   ]
  },
  {
   "cell_type": "code",
   "execution_count": null,
   "metadata": {},
   "outputs": [],
   "source": []
  },
  {
   "cell_type": "code",
   "execution_count": null,
   "metadata": {},
   "outputs": [],
   "source": []
  }
 ],
 "metadata": {
  "kernelspec": {
   "display_name": "Python 3",
   "language": "python",
   "name": "python3"
  },
  "language_info": {
   "codemirror_mode": {
    "name": "ipython",
    "version": 3
   },
   "file_extension": ".py",
   "mimetype": "text/x-python",
   "name": "python",
   "nbconvert_exporter": "python",
   "pygments_lexer": "ipython3",
   "version": "3.7.3"
  },
  "toc": {
   "base_numbering": 1,
   "nav_menu": {},
   "number_sections": true,
   "sideBar": true,
   "skip_h1_title": false,
   "title_cell": "Table of Contents",
   "title_sidebar": "Contents",
   "toc_cell": false,
   "toc_position": {},
   "toc_section_display": true,
   "toc_window_display": false
  },
  "varInspector": {
   "cols": {
    "lenName": 16,
    "lenType": 16,
    "lenVar": 40
   },
   "kernels_config": {
    "python": {
     "delete_cmd_postfix": "",
     "delete_cmd_prefix": "del ",
     "library": "var_list.py",
     "varRefreshCmd": "print(var_dic_list())"
    },
    "r": {
     "delete_cmd_postfix": ") ",
     "delete_cmd_prefix": "rm(",
     "library": "var_list.r",
     "varRefreshCmd": "cat(var_dic_list()) "
    }
   },
   "types_to_exclude": [
    "module",
    "function",
    "builtin_function_or_method",
    "instance",
    "_Feature"
   ],
   "window_display": false
  }
 },
 "nbformat": 4,
 "nbformat_minor": 2
}
